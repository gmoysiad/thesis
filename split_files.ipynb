{
 "cells": [
  {
   "cell_type": "code",
   "execution_count": 1,
   "metadata": {},
   "outputs": [],
   "source": [
    "import os\n",
    "import pandas as pd\n",
    "from datetime import datetime\n",
    "\n",
    "def process_csv_files(input_dir, output_dir):\n",
    "    # Ensure output directory exists\n",
    "    os.makedirs(output_dir, exist_ok=True)\n",
    "    \n",
    "    # Iterate through all folders and files in the given input directory\n",
    "    for root, dirs, files in os.walk(input_dir):\n",
    "        for file in files:\n",
    "            if file.endswith(\".csv\"):\n",
    "                file_path = os.path.join(root, file)\n",
    "                try:\n",
    "                    # Read the CSV file with ';' as separator\n",
    "                    df = pd.read_csv(file_path, sep=\";\")\n",
    "                    \n",
    "                    # Check if the 'name' column exists\n",
    "                    if \"name\" in df.columns:\n",
    "                        # Extract the \"v2\" string from the original filename, if present\n",
    "                        version_part = \"_v2\" if \"v2\" in file else \"\"\n",
    "                        \n",
    "                        # Group data by the 'name' column\n",
    "                        grouped = df.groupby('name')\n",
    "                        \n",
    "                        # Process each category\n",
    "                        for category, data in grouped:\n",
    "                            # Create a timestamped filename for the category\n",
    "                            timestamp = datetime.now().strftime(\"%Y%m%d_%H%M%S\")\n",
    "                            category_filename = f\"{category}{version_part}_{timestamp}.csv\"\n",
    "                            category_filepath = os.path.join(output_dir, category_filename)\n",
    "                            \n",
    "                            # Save the category data to a new CSV file\n",
    "                            data.to_csv(category_filepath, sep=\";\", index=False)\n",
    "                            print(f\"Saved category '{category}' to {category_filepath}\")\n",
    "                    else:\n",
    "                        print(f\"Warning: 'name' column not found in {file_path}\")\n",
    "                except Exception as e:\n",
    "                    print(f\"Error processing file {file_path}: {e}\")"
   ]
  },
  {
   "cell_type": "code",
   "execution_count": 7,
   "metadata": {},
   "outputs": [
    {
     "name": "stdout",
     "output_type": "stream",
     "text": [
      "Saved category 'MGAB_filter_fft_21_1.test.out' to MGAB_filter_fft_21_split\\MGAB_filter_fft_21_1.test.out_20250113_204215.csv\n",
      "Saved category 'MGAB_filter_fft_21_9.test.out' to MGAB_filter_fft_21_split\\MGAB_filter_fft_21_9.test.out_20250113_204215.csv\n",
      "Saved category 'MGAB_filter_fft_21_10.test.out' to MGAB_filter_fft_21_split\\MGAB_filter_fft_21_10.test.out_20250113_204215.csv\n",
      "Saved category 'MGAB_filter_fft_21_2.test.out' to MGAB_filter_fft_21_split\\MGAB_filter_fft_21_2.test.out_20250113_204215.csv\n",
      "Saved category 'MGAB_filter_fft_21_3.test.out' to MGAB_filter_fft_21_split\\MGAB_filter_fft_21_3.test.out_20250113_204215.csv\n",
      "Saved category 'MGAB_filter_fft_21_4.test.out' to MGAB_filter_fft_21_split\\MGAB_filter_fft_21_4.test.out_20250113_204215.csv\n",
      "Saved category 'MGAB_filter_fft_21_5.test.out' to MGAB_filter_fft_21_split\\MGAB_filter_fft_21_5.test.out_20250113_204215.csv\n",
      "Saved category 'MGAB_filter_fft_21_6.test.out' to MGAB_filter_fft_21_split\\MGAB_filter_fft_21_6.test.out_20250113_204215.csv\n",
      "Saved category 'MGAB_filter_fft_21_7.test.out' to MGAB_filter_fft_21_split\\MGAB_filter_fft_21_7.test.out_20250113_204215.csv\n",
      "Saved category 'MGAB_filter_fft_21_8.test.out' to MGAB_filter_fft_21_split\\MGAB_filter_fft_21_8.test.out_20250113_204216.csv\n",
      "Saved category 'MGAB_filter_fft_21_1.test.out' to MGAB_filter_fft_21_split\\MGAB_filter_fft_21_1.test.out_v2_20250113_204216.csv\n",
      "Saved category 'MGAB_filter_fft_21_9.test.out' to MGAB_filter_fft_21_split\\MGAB_filter_fft_21_9.test.out_v2_20250113_204216.csv\n",
      "Saved category 'MGAB_filter_fft_21_10.test.out' to MGAB_filter_fft_21_split\\MGAB_filter_fft_21_10.test.out_v2_20250113_204216.csv\n",
      "Saved category 'MGAB_filter_fft_21_2.test.out' to MGAB_filter_fft_21_split\\MGAB_filter_fft_21_2.test.out_v2_20250113_204216.csv\n",
      "Saved category 'MGAB_filter_fft_21_3.test.out' to MGAB_filter_fft_21_split\\MGAB_filter_fft_21_3.test.out_v2_20250113_204216.csv\n",
      "Saved category 'MGAB_filter_fft_21_4.test.out' to MGAB_filter_fft_21_split\\MGAB_filter_fft_21_4.test.out_v2_20250113_204216.csv\n",
      "Saved category 'MGAB_filter_fft_21_5.test.out' to MGAB_filter_fft_21_split\\MGAB_filter_fft_21_5.test.out_v2_20250113_204216.csv\n",
      "Saved category 'MGAB_filter_fft_21_6.test.out' to MGAB_filter_fft_21_split\\MGAB_filter_fft_21_6.test.out_v2_20250113_204216.csv\n",
      "Saved category 'MGAB_filter_fft_21_7.test.out' to MGAB_filter_fft_21_split\\MGAB_filter_fft_21_7.test.out_v2_20250113_204216.csv\n",
      "Saved category 'MGAB_filter_fft_21_8.test.out' to MGAB_filter_fft_21_split\\MGAB_filter_fft_21_8.test.out_v2_20250113_204216.csv\n"
     ]
    }
   ],
   "source": [
    "input_directory = \"MGAB_filter_fft_21\"  # Change to your input directory path\n",
    "output_directory = \"MGAB_filter_fft_21_split\"  # Change to your output directory path\n",
    "category_column = \"name\"  # Change to your desired category column index or name\n",
    "\n",
    "process_csv_files(input_directory, output_directory)"
   ]
  },
  {
   "cell_type": "code",
   "execution_count": 4,
   "metadata": {},
   "outputs": [],
   "source": [
    "import os\n",
    "import pandas as pd\n",
    "\n",
    "def add_prefix_to_name_column(directory, prefix):\n",
    "    \"\"\"\n",
    "    Adds a prefix to the 'name' column of all CSV files in the specified directory.\n",
    "\n",
    "    Parameters:\n",
    "        directory (str): Path to the directory containing the CSV files.\n",
    "        prefix (str): The prefix to add to the 'name' column.\n",
    "\n",
    "    Returns:\n",
    "        None\n",
    "    \"\"\"\n",
    "    # Iterate through all CSV files in the directory\n",
    "    for file in os.listdir(directory):\n",
    "        if file.endswith(\".csv\"):\n",
    "            file_path = os.path.join(directory, file)\n",
    "            try:\n",
    "                # Read the CSV file with ';' as separator\n",
    "                df = pd.read_csv(file_path, sep=\";\")\n",
    "                \n",
    "                # Check if the 'name' column exists\n",
    "                if \"name\" in df.columns:\n",
    "                    # Add the prefix to the 'name' column\n",
    "                    df[\"name\"] = prefix + df[\"name\"].astype(str)\n",
    "                    \n",
    "                    # Save the updated CSV back to the same file\n",
    "                    df.to_csv(file_path, sep=\";\", index=False)\n",
    "                    print(f\"Added prefix to 'name' column in {file_path}\")\n",
    "                else:\n",
    "                    print(f\"Warning: 'name' column not found in {file_path}\")\n",
    "            except Exception as e:\n",
    "                print(f\"Error processing file {file_path}: {e}\")\n"
   ]
  },
  {
   "cell_type": "code",
   "execution_count": 6,
   "metadata": {},
   "outputs": [
    {
     "name": "stdout",
     "output_type": "stream",
     "text": [
      "Added prefix to 'name' column in MGAB_filter_fft_21\\MGAB_filter_fft_21_1.csv\n",
      "Added prefix to 'name' column in MGAB_filter_fft_21\\MGAB_filter_fft_21_10.csv\n",
      "Added prefix to 'name' column in MGAB_filter_fft_21\\MGAB_filter_fft_21_2.csv\n",
      "Added prefix to 'name' column in MGAB_filter_fft_21\\MGAB_filter_fft_21_3.csv\n",
      "Added prefix to 'name' column in MGAB_filter_fft_21\\MGAB_filter_fft_21_4.csv\n",
      "Added prefix to 'name' column in MGAB_filter_fft_21\\MGAB_filter_fft_21_5.csv\n",
      "Added prefix to 'name' column in MGAB_filter_fft_21\\MGAB_filter_fft_21_6.csv\n",
      "Added prefix to 'name' column in MGAB_filter_fft_21\\MGAB_filter_fft_21_7.csv\n",
      "Added prefix to 'name' column in MGAB_filter_fft_21\\MGAB_filter_fft_21_8.csv\n",
      "Added prefix to 'name' column in MGAB_filter_fft_21\\MGAB_filter_fft_21_9.csv\n",
      "Added prefix to 'name' column in MGAB_filter_fft_21\\MGAB_filter_fft_21_v2_1.csv\n",
      "Added prefix to 'name' column in MGAB_filter_fft_21\\MGAB_filter_fft_21_v2_10.csv\n",
      "Added prefix to 'name' column in MGAB_filter_fft_21\\MGAB_filter_fft_21_v2_2.csv\n",
      "Added prefix to 'name' column in MGAB_filter_fft_21\\MGAB_filter_fft_21_v2_3.csv\n",
      "Added prefix to 'name' column in MGAB_filter_fft_21\\MGAB_filter_fft_21_v2_4.csv\n",
      "Added prefix to 'name' column in MGAB_filter_fft_21\\MGAB_filter_fft_21_v2_5.csv\n",
      "Added prefix to 'name' column in MGAB_filter_fft_21\\MGAB_filter_fft_21_v2_6.csv\n",
      "Added prefix to 'name' column in MGAB_filter_fft_21\\MGAB_filter_fft_21_v2_7.csv\n",
      "Added prefix to 'name' column in MGAB_filter_fft_21\\MGAB_filter_fft_21_v2_8.csv\n",
      "Added prefix to 'name' column in MGAB_filter_fft_21\\MGAB_filter_fft_21_v2_9.csv\n"
     ]
    }
   ],
   "source": [
    "\n",
    "processed_files_directory = \"MGAB_filter_fft_21\"\n",
    "\n",
    "prefix_to_add = \"MGAB_filter_fft_21_\"\n",
    "\n",
    "add_prefix_to_name_column(processed_files_directory, prefix_to_add)\n"
   ]
  }
 ],
 "metadata": {
  "kernelspec": {
   "display_name": "Python 3",
   "language": "python",
   "name": "python3"
  },
  "language_info": {
   "codemirror_mode": {
    "name": "ipython",
    "version": 3
   },
   "file_extension": ".py",
   "mimetype": "text/x-python",
   "name": "python",
   "nbconvert_exporter": "python",
   "pygments_lexer": "ipython3",
   "version": "3.12.6"
  }
 },
 "nbformat": 4,
 "nbformat_minor": 2
}
