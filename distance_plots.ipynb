{
 "cells": [
  {
   "cell_type": "code",
   "execution_count": 8,
   "metadata": {},
   "outputs": [],
   "source": [
    "import os\n",
    "import pandas as pd\n",
    "import matplotlib.pyplot as plt\n",
    "\n",
    "\n",
    "def plot_combined_boxplot(folder_path, column, output_file=\"combined_boxplot.png\"):\n",
    "    \"\"\"\n",
    "    Reads CSV files in a folder, extracts category-wise results, \n",
    "    and creates a combined boxplot for all categories across all files.\n",
    "\n",
    "    Parameters:\n",
    "        folder_path (str): Path to the folder containing the CSV files.\n",
    "        output_file (str): Path to save the generated boxplot. Default is 'combined_boxplot.png'.\n",
    "    \"\"\"\n",
    "    # List all CSV files in the folder\n",
    "    csv_files = [f for f in os.listdir(folder_path) if f.endswith('.csv')]\n",
    "\n",
    "    if not csv_files:\n",
    "        print(\"No CSV files found in the folder.\")\n",
    "        return\n",
    "\n",
    "    combined_data = {}\n",
    "\n",
    "    for file in csv_files:\n",
    "        file_path = os.path.join(folder_path, file)\n",
    "\n",
    "        try:\n",
    "            # Read the CSV file\n",
    "            df = pd.read_csv(file_path, sep=\";\")\n",
    "\n",
    "            # Extract the first column (categories) and the third column (results)\n",
    "            categories = df[\"name\"]\n",
    "            results = df[column]\n",
    "\n",
    "            # Convert results to numeric\n",
    "            results = pd.to_numeric(results, errors='coerce')  # Convert to numeric, invalid entries to NaN\n",
    "\n",
    "            for category, result in zip(categories, results):\n",
    "                if pd.notna(result):  # Skip NaN values\n",
    "                    if category not in combined_data:\n",
    "                        combined_data[category] = []\n",
    "                    combined_data[category].append(result)\n",
    "        except Exception as e:\n",
    "            print(f\"Error processing {file}: {e}\")\n",
    "\n",
    "    if not combined_data:\n",
    "        print(\"No data to plot.\")\n",
    "        return\n",
    "\n",
    "    # Prepare data for boxplot\n",
    "    categories = list(combined_data.keys())\n",
    "    data = [combined_data[category] for category in categories]\n",
    "\n",
    "    # Plot the boxplot\n",
    "    plt.figure(figsize=(12, 8))\n",
    "    plt.boxplot(data, labels=categories,\n",
    "                patch_artist=True,\n",
    "                boxprops=dict(facecolor='skyblue', color='black'),\n",
    "                medianprops=dict(color='red'),\n",
    "                whiskerprops=dict(color='black'),\n",
    "                capprops=dict(color='black')\n",
    "                )\n",
    "    plt.title(folder_path+\" Distribution of Results\", fontsize=16)\n",
    "    # plt.xlabel(\"Categories\", fontsize=14)\n",
    "    plt.ylabel(\"Results\", fontsize=14)\n",
    "    plt.xticks(rotation=90, ha='right')\n",
    "    plt.grid(axis='y', linestyle='--', alpha=0.7)\n",
    "\n",
    "    # Save the plot as an image\n",
    "    plt.tight_layout()\n",
    "    plt.savefig(output_file)\n",
    "    plt.close()\n",
    "\n",
    "    print(f\"Combined boxplot saved: {output_file}\")\n"
   ]
  },
  {
   "cell_type": "code",
   "execution_count": 10,
   "metadata": {},
   "outputs": [
    {
     "name": "stderr",
     "output_type": "stream",
     "text": [
      "C:\\Users\\mach6\\AppData\\Local\\Temp\\ipykernel_8716\\3057783214.py:56: MatplotlibDeprecationWarning: The 'labels' parameter of boxplot() has been renamed 'tick_labels' since Matplotlib 3.9; support for the old name will be dropped in 3.11.\n",
      "  plt.boxplot(data, labels=categories,\n",
      "C:\\Users\\mach6\\AppData\\Local\\Temp\\ipykernel_8716\\3057783214.py:56: MatplotlibDeprecationWarning: The 'labels' parameter of boxplot() has been renamed 'tick_labels' since Matplotlib 3.9; support for the old name will be dropped in 3.11.\n",
      "  plt.boxplot(data, labels=categories,\n"
     ]
    },
    {
     "name": "stdout",
     "output_type": "stream",
     "text": [
      "Combined boxplot saved: MGAB_add_point_outlier_0.02_mmd_value.png\n",
      "Combined boxplot saved: MGAB_add_point_outlier_0.05_mmd_value.png\n"
     ]
    },
    {
     "name": "stderr",
     "output_type": "stream",
     "text": [
      "C:\\Users\\mach6\\AppData\\Local\\Temp\\ipykernel_8716\\3057783214.py:56: MatplotlibDeprecationWarning: The 'labels' parameter of boxplot() has been renamed 'tick_labels' since Matplotlib 3.9; support for the old name will be dropped in 3.11.\n",
      "  plt.boxplot(data, labels=categories,\n",
      "C:\\Users\\mach6\\AppData\\Local\\Temp\\ipykernel_8716\\3057783214.py:56: MatplotlibDeprecationWarning: The 'labels' parameter of boxplot() has been renamed 'tick_labels' since Matplotlib 3.9; support for the old name will be dropped in 3.11.\n",
      "  plt.boxplot(data, labels=categories,\n"
     ]
    },
    {
     "name": "stdout",
     "output_type": "stream",
     "text": [
      "Combined boxplot saved: MGAB_add_random_walk_trend_0.1_mmd_value.png\n",
      "Combined boxplot saved: MGAB_add_random_walk_trend_0.2_mmd_value.png\n"
     ]
    },
    {
     "name": "stderr",
     "output_type": "stream",
     "text": [
      "C:\\Users\\mach6\\AppData\\Local\\Temp\\ipykernel_8716\\3057783214.py:56: MatplotlibDeprecationWarning: The 'labels' parameter of boxplot() has been renamed 'tick_labels' since Matplotlib 3.9; support for the old name will be dropped in 3.11.\n",
      "  plt.boxplot(data, labels=categories,\n"
     ]
    },
    {
     "name": "stdout",
     "output_type": "stream",
     "text": [
      "Combined boxplot saved: MGAB_add_white_noise_0.5_mmd_value.png\n",
      "Combined boxplot saved: MGAB_add_white_noise_1.0_mmd_value.png\n"
     ]
    },
    {
     "name": "stderr",
     "output_type": "stream",
     "text": [
      "C:\\Users\\mach6\\AppData\\Local\\Temp\\ipykernel_8716\\3057783214.py:56: MatplotlibDeprecationWarning: The 'labels' parameter of boxplot() has been renamed 'tick_labels' since Matplotlib 3.9; support for the old name will be dropped in 3.11.\n",
      "  plt.boxplot(data, labels=categories,\n",
      "C:\\Users\\mach6\\AppData\\Local\\Temp\\ipykernel_8716\\3057783214.py:56: MatplotlibDeprecationWarning: The 'labels' parameter of boxplot() has been renamed 'tick_labels' since Matplotlib 3.9; support for the old name will be dropped in 3.11.\n",
      "  plt.boxplot(data, labels=categories,\n"
     ]
    },
    {
     "name": "stdout",
     "output_type": "stream",
     "text": [
      "Combined boxplot saved: MGAB_filter_fft_11_mmd_value.png\n",
      "Combined boxplot saved: MGAB_filter_fft_21_mmd_value.png\n"
     ]
    },
    {
     "name": "stderr",
     "output_type": "stream",
     "text": [
      "C:\\Users\\mach6\\AppData\\Local\\Temp\\ipykernel_8716\\3057783214.py:56: MatplotlibDeprecationWarning: The 'labels' parameter of boxplot() has been renamed 'tick_labels' since Matplotlib 3.9; support for the old name will be dropped in 3.11.\n",
      "  plt.boxplot(data, labels=categories,\n"
     ]
    }
   ],
   "source": [
    "folder_path = [\n",
    "    \"MGAB_add_point_outlier_0.02\", \n",
    "    \"MGAB_add_point_outlier_0.05\", \n",
    "    \"MGAB_add_random_walk_trend_0.1\",\n",
    "    \"MGAB_add_random_walk_trend_0.2\", \n",
    "    \"MGAB_add_white_noise_0.5\",\n",
    "    \"MGAB_add_white_noise_1.0\",\n",
    "    \"MGAB_filter_fft_11\",\n",
    "    \"MGAB_filter_fft_21\"\n",
    "]\n",
    "output_mmd_value = [\n",
    "    file+'_mmd_value.png' for file in folder_path\n",
    "]\n",
    "output_dtw_value = [\n",
    "    file+'_dtw_value.png' for file in folder_path\n",
    "]\n",
    "column = 'mmd_value'  # dwt_value mmd_value\n",
    "for folder, file in zip(folder_path, output_mmd_value):\n",
    "    plot_combined_boxplot(folder, column, file)"
   ]
  },
  {
   "cell_type": "code",
   "execution_count": null,
   "metadata": {},
   "outputs": [],
   "source": []
  },
  {
   "cell_type": "code",
   "execution_count": 4,
   "metadata": {},
   "outputs": [
    {
     "name": "stdout",
     "output_type": "stream",
     "text": [
      "Skipping MGAB_add_point_outlier_002_01.test.out_20250108_215112.csv: Not enough columns.\n",
      "Skipping MGAB_add_point_outlier_002_02.test.out_20250108_215113.csv: Not enough columns.\n",
      "Skipping MGAB_add_point_outlier_002_03.test.out_20250108_215113.csv: Not enough columns.\n",
      "Skipping MGAB_add_point_outlier_002_04.test.out_20250108_215112.csv: Not enough columns.\n",
      "Skipping MGAB_add_point_outlier_002_05.test.out_20250108_215112.csv: Not enough columns.\n",
      "Skipping MGAB_add_point_outlier_002_06.test.out_20250108_215113.csv: Not enough columns.\n",
      "Skipping MGAB_add_point_outlier_002_07.test.out_20250108_215112.csv: Not enough columns.\n",
      "Skipping MGAB_add_point_outlier_002_08.test.out_20250108_215113.csv: Not enough columns.\n",
      "Skipping MGAB_add_point_outlier_002_09.test.out_20250108_215112.csv: Not enough columns.\n",
      "Skipping MGAB_add_point_outlier_002_10.test.out_20250108_215112.csv: Not enough columns.\n",
      "Skipping MGAB_add_point_outlier_002_v2_01.test.out_20250108_215113.csv: Not enough columns.\n",
      "Skipping MGAB_add_point_outlier_002_v2_02.test.out_20250108_215113.csv: Not enough columns.\n",
      "Skipping MGAB_add_point_outlier_002_v2_03.test.out_20250108_215113.csv: Not enough columns.\n",
      "Skipping MGAB_add_point_outlier_002_v2_04.test.out_20250108_215113.csv: Not enough columns.\n",
      "Skipping MGAB_add_point_outlier_002_v2_05.test.out_20250108_215113.csv: Not enough columns.\n",
      "Skipping MGAB_add_point_outlier_002_v2_06.test.out_20250108_215113.csv: Not enough columns.\n",
      "Skipping MGAB_add_point_outlier_002_v2_07.test.out_20250108_215113.csv: Not enough columns.\n",
      "Skipping MGAB_add_point_outlier_002_v2_08.test.out_20250108_215113.csv: Not enough columns.\n",
      "Skipping MGAB_add_point_outlier_002_v2_09.test.out_20250108_215113.csv: Not enough columns.\n",
      "Skipping MGAB_add_point_outlier_002_v2_10.test.out_20250108_215113.csv: Not enough columns.\n",
      "No data to plot.\n"
     ]
    }
   ],
   "source": []
  }
 ],
 "metadata": {
  "kernelspec": {
   "display_name": "Python 3",
   "language": "python",
   "name": "python3"
  },
  "language_info": {
   "codemirror_mode": {
    "name": "ipython",
    "version": 3
   },
   "file_extension": ".py",
   "mimetype": "text/x-python",
   "name": "python",
   "nbconvert_exporter": "python",
   "pygments_lexer": "ipython3",
   "version": "3.12.6"
  }
 },
 "nbformat": 4,
 "nbformat_minor": 2
}
